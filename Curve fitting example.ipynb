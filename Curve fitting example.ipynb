{
 "metadata": {
  "name": "Curve fitting example"
 },
 "nbformat": 3,
 "nbformat_minor": 0,
 "worksheets": [
  {
   "cells": [
    {
     "cell_type": "heading",
     "level": 2,
     "metadata": {
      "slideshow": {
       "slide_type": "slide"
      }
     },
     "source": [
      "Curve fitting example"
     ]
    },
    {
     "cell_type": "markdown",
     "metadata": {},
     "source": [
      "Much of data analysis involves finding model parameters that describe your data.  This is typically called \"fitting,\" as in, fitting a line, fitting a Gaussian, etc.  Here we are going to look at examples of curve fitting using Numpy and SciPy.  These packages make it very simple to fit any function you can define to your data.  \n",
      "\n",
      "As you go through this, remember that you can look at any function's documentation by setting the cursor just after the opening parentheses and pressing the Tab key.\n"
     ]
    },
    {
     "cell_type": "code",
     "collapsed": false,
     "input": [
      "%pylab inline\n",
      "from numpy import polyfit\n",
      "from scipy import optimize, stats"
     ],
     "language": "python",
     "metadata": {},
     "outputs": [
      {
       "output_type": "stream",
       "stream": "stdout",
       "text": [
        "\n",
        "Welcome to pylab, a matplotlib-based Python environment [backend: module://IPython.kernel.zmq.pylab.backend_inline].\n",
        "For more information, type 'help(pylab)'.\n"
       ]
      }
     ],
     "prompt_number": 64
    },
    {
     "cell_type": "markdown",
     "metadata": {},
     "source": [
      "First, we'll start simple, fitting a line to some data.  We'll generate some data, then fit a line and get the parameters.  To fit this data we are going to use the `numpy.polyfit` function.  By default, `numpy.polyfit` will return only the optimal parameters.  However, by setting `cov = True`, we can also get the covariance matrix.  The diagonals of the covariance matrix are the variances of the parameters, so the square roots are the error in the parameters."
     ]
    },
    {
     "cell_type": "code",
     "collapsed": false,
     "input": [
      "x = np.linspace(-5,5,10)\n",
      "# This is the mock data\n",
      "m, b = -1.65, 4.65\n",
      "y = m*x + b\n",
      "# Add some noise to the data\n",
      "y = y + np.random.normal(scale = 0.5, size=len(y))\n",
      "plot(x, y, 'or')"
     ],
     "language": "python",
     "metadata": {},
     "outputs": [
      {
       "metadata": {},
       "output_type": "pyout",
       "prompt_number": 65,
       "text": [
        "[<matplotlib.lines.Line2D at 0x113099c10>]"
       ]
      },
      {
       "metadata": {},
       "output_type": "display_data",
       "png": "[encoded data removed]",
       "text": [
        "<matplotlib.figure.Figure at 0x11313c190>"
       ]
      }
     ],
     "prompt_number": 65
    },
    {
     "cell_type": "code",
     "collapsed": false,
     "input": [
      "params, cov = np.polyfit(x, y, 1, cov = True)\n",
      "plot(x, y, 'or')\n",
      "plot(x, x*params[0]+params[1], '-b')\n",
      "print m, b\n",
      "print params\n",
      "print np.sqrt(cov.diagonal())"
     ],
     "language": "python",
     "metadata": {},
     "outputs": [
      {
       "output_type": "stream",
       "stream": "stdout",
       "text": [
        "-1.65 4.65\n",
        "[-1.51457685  5.01953335]\n",
        "[ 0.06636967  0.21181373]\n"
       ]
      },
      {
       "metadata": {},
       "output_type": "display_data",
       "png": "[encoded data removed]",
       "text": [
        "<matplotlib.figure.Figure at 0x11313bdd0>"
       ]
      }
     ],
     "prompt_number": 66
    },
    {
     "cell_type": "markdown",
     "metadata": {},
     "source": [
      "Now we'll use the $ \\chi ^2 $ test to get a measure of how well our fit matches the data.  Assuming the uncertainty in each data point is the same,\n",
      "\n",
      "$$ \\chi^2 = \\sum^N_i \\frac{1}{\\sigma^2_i}  \\left(y_i - f \\left(x_i\\right)\\right)^2 ,$$\n",
      "\n",
      "where $\\sigma$ is the uncertainty in the data points, $N$ is the total number of data points, and $f\\left(x\\right)$ is your fit.\n",
      "\n",
      "Then we want to get the reduced $\\chi^2$ value, which is $\\chi^2$ divided by the degrees of freedom\n",
      "\n",
      "$$ \\chi^2_{red} = \\frac{\\chi^2}{(N - d)} ,$$\n",
      "\n",
      "where $d$ is the number of parameters in the model, so $d = 2$ in this case."
     ]
    },
    {
     "cell_type": "code",
     "collapsed": false,
     "input": [
      "fit = params[0]*x + params[1]\n",
      "chi2 = 1/(0.5**2) * np.sum((y - fit)**2)\n",
      "chi2_red = chi2 / float(len(y) - 2)\n",
      "print 'ChiSquared = {}'.format(chi2)\n",
      "print 'Reduced ChiSquared = {}'.format(chi2_red)"
     ],
     "language": "python",
     "metadata": {},
     "outputs": [
      {
       "output_type": "stream",
       "stream": "stdout",
       "text": [
        "ChiSquared = 10.7676136174\n",
        "Reduced ChiSquared = 1.34595170218\n"
       ]
      }
     ],
     "prompt_number": 67
    },
    {
     "cell_type": "markdown",
     "metadata": {},
     "source": [
      "In general, $\\chi ^2 _{red} \\approx 1_{}$ means the fit matches the data within the uncertainty of the data points.  From here you either need to look up the p-value in a table, or calculate it.  The p-value for this goodness-of-fit test is the probability that you would get a fit at least as good as your model, or, the probability that you would see a $\\chi^2$ value greater than the one you found.  For example, for $d=2$ and $\\chi^2 = 10$, the p-value is equal to the shaded area below the probability density function (pdf)."
     ]
    },
    {
     "cell_type": "code",
     "collapsed": false,
     "input": [
      "# Get the chi2 distribution with df = len(y)-2\n",
      "chi2_dist = stats.chi2(len(y)-2)\n",
      "\n",
      "x_chi2 = np.linspace(0,30,100)\n",
      "plot(x_chi2, chi2_dist.pdf(x_chi2), '-k', lw=2)\n",
      "fill_between(x_chi2, chi2_dist.pdf(x_chi2), where=x_chi2>=chi2, \n",
      "             color='steelblue', alpha=0.5)\n",
      "xlabel(r'$\\chi^2$', fontsize=18)\n",
      "ylabel(r'$pdf_2(\\chi^2)$', fontsize=18)"
     ],
     "language": "python",
     "metadata": {},
     "outputs": [
      {
       "metadata": {},
       "output_type": "pyout",
       "prompt_number": 68,
       "text": [
        "<matplotlib.text.Text at 0x1130bfe10>"
       ]
      },
      {
       "metadata": {},
       "output_type": "display_data",
       "png": "[encoded data removed]",
       "text": [
        "<matplotlib.figure.Figure at 0x113146590>"
       ]
      }
     ],
     "prompt_number": 68
    },
    {
     "cell_type": "markdown",
     "metadata": {},
     "source": [
      "Knowing this, we can calculate the p-value by finding the value of the $\\chi^2$ cumulative density function, $F\\left(x;\\, df\\right)$, at the value of the measured $\\chi^2$.  This is the area under the pdf curve up to $\\chi^2$, so \n",
      "\n",
      "$$ p = 1 - F\\left(\\chi^2;\\, 2\\right) $$"
     ]
    },
    {
     "cell_type": "code",
     "collapsed": false,
     "input": [
      "p = 1 - chi2_dist.cdf(chi2)\n",
      "print 'p = {}'.format(p)"
     ],
     "language": "python",
     "metadata": {},
     "outputs": [
      {
       "output_type": "stream",
       "stream": "stdout",
       "text": [
        "p = 0.215217363363\n"
       ]
      }
     ],
     "prompt_number": 69
    },
    {
     "cell_type": "markdown",
     "metadata": {},
     "source": [
      "Since the p-value tells you the probability you would see a $\\chi^2$ value larger than the one you found, for a good fit, you want a p-value around 0.5.  If p is too small, say $p < 0.05$ this means that barely any fit would be as good as yours.  In this case, you are overfitting.  If p is too large, say $p > 0.95$, this means nearly any fit would be as good or better than yours.  This means that you are underfitting."
     ]
    },
    {
     "cell_type": "heading",
     "level": 3,
     "metadata": {},
     "source": [
      "Fitting a Gaussian"
     ]
    },
    {
     "cell_type": "markdown",
     "metadata": {},
     "source": [
      "Now, we'll look at data that you don't want to fit with a polynomial.  We are going to use the `scipy.stats` module to generate sample data.  In the first line, we generate a range of x values.  Then, make a normal distribution at x = 2.5 with a width of 1.5.  We'll also add some noise to the Gaussian with `np.random.normal`."
     ]
    },
    {
     "cell_type": "code",
     "collapsed": false,
     "input": [
      "x = np.linspace(-10, 10, 200)\n",
      "y = 50*stats.norm.pdf(x, loc = 2.5, scale = 1.5) + \\\n",
      "    np.random.normal(scale=2, size=len(x))\n",
      "plot(x, y)"
     ],
     "language": "python",
     "metadata": {},
     "outputs": []
    },
    {
     "cell_type": "markdown",
     "metadata": {},
     "source": [
      "The `optimize` module contains functions for finding roots, minima, maxima and such.  It also contains the function `curve_fit` which we are going to use to fit our model to the data.  After reading the documentation for `curve_fit`, we know we need to pass it a function to fit to the data.  The first argument of the function must be the independent variable (`x` in this case) and the remaining arguments are the parameters to fit.  We want to fit a Gaussian, so let's make a `gaussian` function.  Just a refresher, a Gaussian is defined as:\n",
      "\n",
      "$$ y = A \\exp\\left(-\\frac{(x-\\mu)^2}{2\\sigma^2}\\right)$$\n",
      "    \n"
     ]
    },
    {
     "cell_type": "code",
     "collapsed": false,
     "input": [
      "def gaussian(x, A, u, s):\n",
      "    y = A*np.exp(-(x-u)**2/(2*s**2))\n",
      "    return y"
     ],
     "language": "python",
     "metadata": {},
     "outputs": []
    },
    {
     "cell_type": "markdown",
     "metadata": {},
     "source": [
      "The `curve_fit` method returns the optimal values of the parameters and the covariance matrix.  The diagonals of the covariance matrix are the variances of the optimal parameters."
     ]
    },
    {
     "cell_type": "code",
     "collapsed": false,
     "input": [
      "params, cov = optimize.curve_fit(gaussian, x, y)\n",
      "\n",
      "print \"A = {}, u = {}, s = {}\".format(*params)\n",
      "print \"var_A = {}, var_u = {}, var_s = {}\".format(*cov.diagonal())\n",
      "plot(x, y)\n",
      "plot(x, gaussian(x, params[0], params[1], params[2]), lw=2)"
     ],
     "language": "python",
     "metadata": {},
     "outputs": []
    },
    {
     "cell_type": "code",
     "collapsed": false,
     "input": [
      "fit = gaussian(x, params[0], params[1], params[2])\n",
      "chi2 = 1/(2.0**2) * np.sum((y - fit)**2)\n",
      "chi2_red = chi2 / float(len(y) - 2)\n",
      "print 'ChiSquared = {}'.format(chi2)\n",
      "print 'Reduced ChiSquared = {}'.format(chi2_red)\n",
      "\n",
      "# Get the chi2 distribution with df = len(y)-3\n",
      "chi2_dist = stats.chi2(len(y)-3)\n",
      "p = 1 - chi2_dist.cdf(chi2)\n",
      "print 'p = {}'.format(p)"
     ],
     "language": "python",
     "metadata": {},
     "outputs": []
    },
    {
     "cell_type": "code",
     "collapsed": false,
     "input": [],
     "language": "python",
     "metadata": {},
     "outputs": []
    }
   ],
   "metadata": {}
  }
 ]
}