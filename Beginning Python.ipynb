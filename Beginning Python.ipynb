{
 "metadata": {
  "name": "Beginning Python"
 },
 "nbformat": 3,
 "nbformat_minor": 0,
 "worksheets": [
  {
   "cells": [
    {
     "cell_type": "heading",
     "level": 2,
     "metadata": {},
     "source": [
      "Introduction to Python"
     ]
    },
    {
     "cell_type": "markdown",
     "metadata": {},
     "source": [
      "This notebook will serve as an introduction to Python the programming language.  First, we'll start with the typical 'Hello, world' example."
     ]
    },
    {
     "cell_type": "code",
     "collapsed": false,
     "input": [
      "print('Hello, world')"
     ],
     "language": "python",
     "metadata": {},
     "outputs": [
      {
       "output_type": "stream",
       "stream": "stdout",
       "text": [
        "Hello, world\n"
       ]
      }
     ],
     "prompt_number": 125
    },
    {
     "cell_type": "markdown",
     "metadata": {},
     "source": [
      "Simple, right?  In the print statements, `'Hello, world'` is a **string**, an array of characters.  Print takes the string, and prints it as output.  In the second print statement, you'll notice parentheses starting after print and surrounding the string.  This is because the second print statement is a **function**, which we'll get to in a bit.\n",
      "\n",
      "In most programming languages, you define variables.  Python is a dynamic language in that any variable can reference anything and can be changed at any time.  This makes Python much more flexible and quicker to write code with, at the cost of being slower at computations in general and prone to nasty bugs."
     ]
    },
    {
     "cell_type": "code",
     "collapsed": false,
     "input": [
      "x = 1 # An integer\n",
      "print(x)\n",
      "x = 2.0 # A float\n",
      "print(x)\n",
      "x = 'Hello, world' # A string\n",
      "print(x)"
     ],
     "language": "python",
     "metadata": {},
     "outputs": [
      {
       "output_type": "stream",
       "stream": "stdout",
       "text": [
        "1\n",
        "2.0\n",
        "Hello, world\n"
       ]
      }
     ],
     "prompt_number": 13
    },
    {
     "cell_type": "markdown",
     "metadata": {},
     "source": [
      "And of course, you can set variables to other variables.  Also, you can do math."
     ]
    },
    {
     "cell_type": "code",
     "collapsed": false,
     "input": [
      "y = x\n",
      "print(y)\n",
      "x = 4.0\n",
      "y = 3*x + 5\n",
      "print(y)"
     ],
     "language": "python",
     "metadata": {},
     "outputs": [
      {
       "output_type": "stream",
       "stream": "stdout",
       "text": [
        "Hello, world\n",
        "17.0\n"
       ]
      }
     ],
     "prompt_number": 15
    },
    {
     "cell_type": "markdown",
     "metadata": {},
     "source": [
      "We typically want to take a variable and perform an operation on it to get some result.  Say for instance, we want to take the square of a number. We can define a function to do this."
     ]
    },
    {
     "cell_type": "code",
     "collapsed": false,
     "input": [
      "def square(x):\n",
      "    sq = x*x\n",
      "    return sq"
     ],
     "language": "python",
     "metadata": {},
     "outputs": [],
     "prompt_number": 10
    },
    {
     "cell_type": "markdown",
     "metadata": {},
     "source": [
      "This is all it takes to define a function.  `def` tells Python we are defining a function, `square` is the function's name, `x` is the input to the function.  What this means is that anything we pass into the `square` function will be assigned to the variable `x` used in the function.  `return` states what the function will output.  We would write this mathematically\n",
      "\n",
      "$$ f\\left(x\\right) = x^2 $$"
     ]
    },
    {
     "cell_type": "code",
     "collapsed": false,
     "input": [
      "print(square(3))\n",
      "y = 4 # You can pass variables as input too\n",
      "print(square(y))\n",
      "# Assign the output of square to z\n",
      "z = square(5)\n",
      "print(z)"
     ],
     "language": "python",
     "metadata": {},
     "outputs": [
      {
       "output_type": "stream",
       "stream": "stdout",
       "text": [
        "9\n",
        "16\n",
        "25\n"
       ]
      }
     ],
     "prompt_number": 30
    },
    {
     "cell_type": "markdown",
     "metadata": {},
     "source": [
      "Often, you'll want to perform the same operation on a bunch of data.  We can do this using a for loop.  Python does for loops differently than most other programming languages.  For instance, in C, you would write:\n",
      "\n",
      "    int i\n",
      "    for (i = 0; i < 10; i++)\n",
      "    {\n",
      "        printf (\"Hello, world\\n\");\n",
      "    }\n",
      "    \n",
      "This code says \"Create a variable `i`, which stores an integer.  Start a for loop with `i = 0`, run the for loop while `i < 10`, and for each loop increment `i` by `1`.\"  Then for each loop, it runs the code inside the loop.  In Python, we would write the same code like so:"
     ]
    },
    {
     "cell_type": "code",
     "collapsed": false,
     "input": [
      "for i in range(10):\n",
      "    print(\"Hello, world\")\n",
      "\n",
      "# Now using our square function\n",
      "for i in range(10):\n",
      "    print(square(i))"
     ],
     "language": "python",
     "metadata": {},
     "outputs": [
      {
       "output_type": "stream",
       "stream": "stdout",
       "text": [
        "Hello, world\n",
        "Hello, world\n",
        "Hello, world\n",
        "Hello, world\n",
        "Hello, world\n",
        "Hello, world\n",
        "Hello, world\n",
        "Hello, world\n",
        "Hello, world\n",
        "Hello, world\n",
        "0\n",
        "1\n",
        "4\n",
        "9\n",
        "16\n",
        "25\n",
        "36\n",
        "49\n",
        "64\n",
        "81\n"
       ]
      }
     ],
     "prompt_number": 25
    },
    {
     "cell_type": "markdown",
     "metadata": {},
     "source": [
      "It is important to understand how the Python for loop works, because it is fundamental to the language.  Let's look at the `range` function."
     ]
    },
    {
     "cell_type": "code",
     "collapsed": false,
     "input": [
      "print(range(10))\n",
      "for i in range(10):\n",
      "    print(i),"
     ],
     "language": "python",
     "metadata": {},
     "outputs": [
      {
       "output_type": "stream",
       "stream": "stdout",
       "text": [
        "[0, 1, 2, 3, 4, 5, 6, 7, 8, 9]\n",
        "0 1 2 3 4 5 6 7 8 9\n"
       ]
      }
     ],
     "prompt_number": 27
    },
    {
     "cell_type": "markdown",
     "metadata": {},
     "source": [
      "The function `range` returns a **list** of 10 numbers, from 0 to 9. A list is a fundamental data structure of Python which we talk more about later.  The `for` loop grabs each value in the list returned by `range(10)` and sets `i` to the value. The `for` loop ends when there are no more values to grab.  \n",
      "\n",
      "The Python code here does what you expect it to intuitively from just reading the code."
     ]
    },
    {
     "cell_type": "code",
     "collapsed": false,
     "input": [
      "fruits = ['apple', 'orange', 'banana', 'kiwi']\n",
      "for fruit in fruits:\n",
      "    print(fruit)"
     ],
     "language": "python",
     "metadata": {},
     "outputs": [
      {
       "output_type": "stream",
       "stream": "stdout",
       "text": [
        "apple\n",
        "orange\n",
        "banana\n",
        "kiwi\n"
       ]
      }
     ],
     "prompt_number": 18
    },
    {
     "cell_type": "markdown",
     "metadata": {},
     "source": [
      "You can iterate through a string too since a string is an array of characters."
     ]
    },
    {
     "cell_type": "code",
     "collapsed": false,
     "input": [
      "for ch in \"Hello, world\":\n",
      "    print ch,"
     ],
     "language": "python",
     "metadata": {},
     "outputs": [
      {
       "output_type": "stream",
       "stream": "stdout",
       "text": [
        "H e l l o ,   w o r l d\n"
       ]
      }
     ],
     "prompt_number": 8
    },
    {
     "cell_type": "markdown",
     "metadata": {},
     "source": [
      "Before we move on to the next section, I feel "
     ]
    },
    {
     "cell_type": "code",
     "collapsed": false,
     "input": [],
     "language": "python",
     "metadata": {},
     "outputs": []
    },
    {
     "cell_type": "heading",
     "level": 3,
     "metadata": {},
     "source": [
      "Data structures"
     ]
    },
    {
     "cell_type": "markdown",
     "metadata": {},
     "source": [
      "Let's talk a bit more about lists and other built in data structures.  Lists are similar to arrays in other languages.  However, lists can contain different types of data such as integers, floats, strings, etc.  Futhermore, lists are **mutable**."
     ]
    },
    {
     "cell_type": "code",
     "collapsed": false,
     "input": [
      "l = [1,2,3,4] # Create a list\n",
      "print(l)\n",
      "\n",
      "# Get the value at index 2 from the list\n",
      "print(l[2])\n",
      "\n",
      "# Lists are mutable\n",
      "l[2] = 'change'\n",
      "print(l)"
     ],
     "language": "python",
     "metadata": {},
     "outputs": [
      {
       "output_type": "stream",
       "stream": "stdout",
       "text": [
        "[1, 2, 3, 4]\n",
        "3\n",
        "[1, 2, 'change', 4]\n"
       ]
      }
     ],
     "prompt_number": 21
    },
    {
     "cell_type": "markdown",
     "metadata": {},
     "source": [
      "You'll often want to generate a list from another list, for instance maybe you want to get the squares of all the values in a list.  You could do this:"
     ]
    },
    {
     "cell_type": "code",
     "collapsed": false,
     "input": [
      "squares = [] # Make an empty list\n",
      "for i in [1,3,5,7,9]:\n",
      "    squares.append(i*i) # Append i*i to the list\n",
      "print(squares)"
     ],
     "language": "python",
     "metadata": {},
     "outputs": [
      {
       "output_type": "stream",
       "stream": "stdout",
       "text": [
        "[1, 9, 25, 49, 81]\n"
       ]
      }
     ],
     "prompt_number": 48
    },
    {
     "cell_type": "markdown",
     "metadata": {},
     "source": [
      "However, a better way to do this is with **list comprehensions**."
     ]
    },
    {
     "cell_type": "code",
     "collapsed": false,
     "input": [
      "squares = [ i*i for i in [1,3,5,7,9] ]\n",
      "print(squares)"
     ],
     "language": "python",
     "metadata": {},
     "outputs": [
      {
       "output_type": "stream",
       "stream": "stdout",
       "text": [
        "[1, 9, 25, 49, 81]\n"
       ]
      }
     ],
     "prompt_number": 49
    },
    {
     "cell_type": "markdown",
     "metadata": {},
     "source": [
      "You can nest for statements in list comprehensions.  Below, you see for each `i`, it goes through each `j`, then goes to the next `i`."
     ]
    },
    {
     "cell_type": "code",
     "collapsed": false,
     "input": [
      "multis = [ i*j for i in [1,2,3,4,5] for j in [3,4,5,6,7] ]\n",
      "print(multis)\n",
      "\n",
      "# The same result\n",
      "multis = []\n",
      "for i in [1,2,3,4,5]:\n",
      "    for j in [3,4,5,6,7]:\n",
      "        multis.append(i*j)\n",
      "print(multis)\n",
      "        "
     ],
     "language": "python",
     "metadata": {},
     "outputs": [
      {
       "output_type": "stream",
       "stream": "stdout",
       "text": [
        "[3, 4, 5, 6, 7, 6, 8, 10, 12, 14, 9, 12, 15, 18, 21, 12, 16, 20, 24, 28, 15, 20, 25, 30, 35]\n",
        "[3, 4, 5, 6, 7, 6, 8, 10, 12, 14, 9, 12, 15, 18, 21, 12, 16, 20, 24, 28, 15, 20, 25, 30, 35]\n"
       ]
      }
     ],
     "prompt_number": 57
    },
    {
     "cell_type": "markdown",
     "metadata": {},
     "source": [
      "You can also use `if` statements in list comprehensions."
     ]
    },
    {
     "cell_type": "code",
     "collapsed": false,
     "input": [
      "multis = [ i*j for i in [1,2,3,4,5] for j in [3,4,5,6,7] if i != j ]\n",
      "print(multis)"
     ],
     "language": "python",
     "metadata": {},
     "outputs": [
      {
       "output_type": "stream",
       "stream": "stdout",
       "text": [
        "[3, 4, 5, 6, 7, 6, 8, 10, 12, 14, 12, 15, 18, 21, 12, 20, 24, 28, 15, 20, 30, 35]\n"
       ]
      }
     ],
     "prompt_number": 56
    },
    {
     "cell_type": "markdown",
     "metadata": {},
     "source": [
      "In general, use list comprehensions rather than `for` loops.  They are more concise, easier to read, and faster."
     ]
    },
    {
     "cell_type": "markdown",
     "metadata": {},
     "source": [
      "Another common data structure is the **tuple**.  A tuple is basically the same as a list, except that it is **immutable**."
     ]
    },
    {
     "cell_type": "code",
     "collapsed": false,
     "input": [
      "t = (1,2,3,4) # Create a tuple\n",
      "print(t)\n",
      "\n",
      "# Get the value at index 2 from the list\n",
      "print(t[2])"
     ],
     "language": "python",
     "metadata": {},
     "outputs": [
      {
       "output_type": "stream",
       "stream": "stdout",
       "text": [
        "(1, 2, 3, 4)\n",
        "3\n"
       ]
      }
     ],
     "prompt_number": 33
    },
    {
     "cell_type": "code",
     "collapsed": false,
     "input": [
      "# Tuples are immutable\n",
      "t[2] = 'change'"
     ],
     "language": "python",
     "metadata": {},
     "outputs": [
      {
       "ename": "TypeError",
       "evalue": "'tuple' object does not support item assignment",
       "output_type": "pyerr",
       "traceback": [
        "\u001b[0;31m---------------------------------------------------------------------------\u001b[0m\n\u001b[0;31mTypeError\u001b[0m                                 Traceback (most recent call last)",
        "\u001b[0;32m<ipython-input-34-9ed71e321fc2>\u001b[0m in \u001b[0;36m<module>\u001b[0;34m()\u001b[0m\n\u001b[1;32m      1\u001b[0m \u001b[0;31m# Tuples are immutable\u001b[0m\u001b[0;34m\u001b[0m\u001b[0;34m\u001b[0m\u001b[0m\n\u001b[0;32m----> 2\u001b[0;31m \u001b[0mt\u001b[0m\u001b[0;34m[\u001b[0m\u001b[0;36m2\u001b[0m\u001b[0;34m]\u001b[0m \u001b[0;34m=\u001b[0m \u001b[0;34m'change'\u001b[0m\u001b[0;34m\u001b[0m\u001b[0m\n\u001b[0m",
        "\u001b[0;31mTypeError\u001b[0m: 'tuple' object does not support item assignment"
       ]
      }
     ],
     "prompt_number": 34
    },
    {
     "cell_type": "markdown",
     "metadata": {},
     "source": [
      "Tuples can be used for packing, which makes many things simpler."
     ]
    },
    {
     "cell_type": "code",
     "collapsed": false,
     "input": [
      "x, y = 5, 10\n",
      "print(x, y)"
     ],
     "language": "python",
     "metadata": {},
     "outputs": [
      {
       "output_type": "stream",
       "stream": "stdout",
       "text": [
        "(5, 10)\n"
       ]
      }
     ],
     "prompt_number": 35
    },
    {
     "cell_type": "markdown",
     "metadata": {},
     "source": [
      "What happened here is that each side of the expression is an implied tuple."
     ]
    },
    {
     "cell_type": "code",
     "collapsed": false,
     "input": [
      "(x, y) = (5, 10)\n",
      "print(x, y)"
     ],
     "language": "python",
     "metadata": {},
     "outputs": [
      {
       "output_type": "stream",
       "stream": "stdout",
       "text": [
        "(5, 10)\n"
       ]
      }
     ],
     "prompt_number": 36
    },
    {
     "cell_type": "markdown",
     "metadata": {},
     "source": [
      "You can use this to set multiple variables at once, or swap variables.  You can also use it to store the output of functions that return more than one object.  "
     ]
    },
    {
     "cell_type": "code",
     "collapsed": false,
     "input": [
      "# Swap variables\n",
      "x, y = 5, 10\n",
      "print(x, y)\n",
      "x, y = y, x\n",
      "print(x, y)\n",
      "\n",
      "# Making a function that returns two numbers\n",
      "def min_max(numbers):\n",
      "    return min(numbers), max(numbers) # Again, implied tuple\n",
      "\n",
      "# min_max returns a tuple with two elements\n",
      "z, t = min_max([2,5,1,9,3,10,15]) \n",
      "print(z, t)"
     ],
     "language": "python",
     "metadata": {},
     "outputs": [
      {
       "output_type": "stream",
       "stream": "stdout",
       "text": [
        "(5, 10)\n",
        "(10, 5)\n",
        "(1, 15)\n"
       ]
      }
     ],
     "prompt_number": 40
    },
    {
     "cell_type": "markdown",
     "metadata": {},
     "source": [
      "Other built in data structures are the **dictionary** and the **set**.  Dictionaries store values associated with keys.  I'll show you what I mean."
     ]
    },
    {
     "cell_type": "code",
     "collapsed": false,
     "input": [
      "d = {'Hello':1, 2:'world'} # Create a dictionary\n",
      "print(d)\n",
      "print(d['Hello'])\n",
      "print(d[2])"
     ],
     "language": "python",
     "metadata": {},
     "outputs": [
      {
       "output_type": "stream",
       "stream": "stdout",
       "text": [
        "{2: 'world', 'Hello': 1}\n",
        "1\n",
        "world\n"
       ]
      }
     ],
     "prompt_number": 41
    },
    {
     "cell_type": "markdown",
     "metadata": {},
     "source": [
      "You can also use dictionary comprehensions!  This makes constructing dictionaries easy and concise."
     ]
    },
    {
     "cell_type": "code",
     "collapsed": false,
     "input": [
      "# zip makes a list of tuples from the two lists\n",
      "basket = zip(['apple', 'banana', 'orange'],[3,2,4])\n",
      "print(basket)\n",
      "\n",
      "d = { key:value for key, value in basket }\n",
      "print(d)"
     ],
     "language": "python",
     "metadata": {},
     "outputs": [
      {
       "output_type": "stream",
       "stream": "stdout",
       "text": [
        "[('apple', 3), ('banana', 2), ('orange', 4)]\n",
        "{'orange': 4, 'apple': 3, 'banana': 2}\n"
       ]
      }
     ],
     "prompt_number": 63
    },
    {
     "cell_type": "markdown",
     "metadata": {},
     "source": [
      "Sets are unordered collections of unique items.  They are useful for removing duplicates and mathematical operations like unions, intersections, etc. Read about sets here: http://docs.python.org/2/tutorial/datastructures.html#sets."
     ]
    },
    {
     "cell_type": "heading",
     "level": 3,
     "metadata": {},
     "source": [
      "Imports"
     ]
    },
    {
     "cell_type": "markdown",
     "metadata": {},
     "source": [
      "Python allows you to use code written in other files through `import`.  It is pretty simple to use, as shown below.  You import a module, then you can use functions or classes defined in the module."
     ]
    },
    {
     "cell_type": "code",
     "collapsed": false,
     "input": [
      "import math\n",
      "\n",
      "print(math.pi)\n",
      "print(math.sqrt(2))"
     ],
     "language": "python",
     "metadata": {},
     "outputs": [
      {
       "output_type": "stream",
       "stream": "stdout",
       "text": [
        "3.14159265359\n",
        "1.41421356237\n"
       ]
      }
     ],
     "prompt_number": 97
    },
    {
     "cell_type": "code",
     "collapsed": false,
     "input": [
      "import os\n",
      "os.getcwd() # Get current working directory\n",
      "os.listdir(os.getcwd()) # List files in directory"
     ],
     "language": "python",
     "metadata": {},
     "outputs": [
      {
       "metadata": {},
       "output_type": "pyout",
       "prompt_number": 105,
       "text": [
        "['.DS_Store',\n",
        " '.git',\n",
        " '.gitignore',\n",
        " 'Curve fitting example.ipynb',\n",
        " 'FFT.ipynb',\n",
        " 'Importing Data.ipynb',\n",
        " 'Python.ipynb',\n",
        " 'README.md',\n",
        " 'test.txt']"
       ]
      }
     ],
     "prompt_number": 105
    },
    {
     "cell_type": "markdown",
     "metadata": {},
     "source": [
      "You can also import only the functions or classes you want from a module."
     ]
    },
    {
     "cell_type": "code",
     "collapsed": false,
     "input": [
      "from os import getcwd, listdir\n",
      "listdir(getcwd())"
     ],
     "language": "python",
     "metadata": {},
     "outputs": [
      {
       "metadata": {},
       "output_type": "pyout",
       "prompt_number": 106,
       "text": [
        "['.DS_Store',\n",
        " '.git',\n",
        " '.gitignore',\n",
        " 'Curve fitting example.ipynb',\n",
        " 'FFT.ipynb',\n",
        " 'Importing Data.ipynb',\n",
        " 'Python.ipynb',\n",
        " 'README.md',\n",
        " 'test.txt']"
       ]
      }
     ],
     "prompt_number": 106
    },
    {
     "cell_type": "heading",
     "level": 3,
     "metadata": {},
     "source": [
      "Objects and classes"
     ]
    },
    {
     "cell_type": "markdown",
     "metadata": {},
     "source": [
      "Everything in Python is an object.  Objects are data structures that hold data and provide methods (functions) that operate on that data.  Above you probably saw that I wrote `squares.append(i*i)`.  The list `squares` is an object of the type `list`.  Objects of type `list` have a method called `append` which takes an argument and appends it to the list.  "
     ]
    },
    {
     "cell_type": "code",
     "collapsed": false,
     "input": [
      "print(type(squares))\n",
      "\n",
      "# reverse() reverse the list in-place\n",
      "squares.reverse()\n",
      "print(squares)\n",
      "\n",
      "# index() returns the first index of the given value\n",
      "print(squares.index(9))"
     ],
     "language": "python",
     "metadata": {},
     "outputs": [
      {
       "output_type": "stream",
       "stream": "stdout",
       "text": [
        "<type 'list'>\n",
        "[0, 1, 4, 9, 16, 25]\n",
        "3\n"
       ]
      }
     ],
     "prompt_number": 89
    },
    {
     "cell_type": "markdown",
     "metadata": {},
     "source": [
      "All objects have a type, which you can view by calling `type`.  In Python, even functions are objects!"
     ]
    },
    {
     "cell_type": "code",
     "collapsed": false,
     "input": [
      "print(type(1), type('Hello'), type(2.0))\n",
      "\n",
      "print(type(square))\n",
      "print(square)"
     ],
     "language": "python",
     "metadata": {},
     "outputs": [
      {
       "output_type": "stream",
       "stream": "stdout",
       "text": [
        "(<type 'int'>, <type 'str'>, <type 'float'>)\n",
        "<type 'function'>\n",
        "<function square at 0x1028018c0>\n"
       ]
      }
     ],
     "prompt_number": 129
    },
    {
     "cell_type": "markdown",
     "metadata": {},
     "source": [
      "iPython makes it very easy to see what methods are available for an object."
     ]
    },
    {
     "cell_type": "code",
     "collapsed": false,
     "input": [
      "t = (1,1,1,2,2)\n",
      "print(type(t))\n",
      "# type t., then press the tab key\n",
      "t.count("
     ],
     "language": "python",
     "metadata": {},
     "outputs": [
      {
       "output_type": "stream",
       "stream": "stdout",
       "text": [
        "<type 'tuple'>\n"
       ]
      },
      {
       "metadata": {},
       "output_type": "pyout",
       "prompt_number": 93,
       "text": [
        "2"
       ]
      }
     ],
     "prompt_number": 93
    },
    {
     "cell_type": "markdown",
     "metadata": {},
     "source": [
      "To define your own object, you need to define a `class`.  By convention, classes are named starting with a capital letter, and everything else should start with a lowercase letter."
     ]
    },
    {
     "cell_type": "code",
     "collapsed": false,
     "input": [
      "import math\n",
      "\n",
      "class Vector2D(object):\n",
      "    \n",
      "    def __init__(self, x, y):\n",
      "        self.x, self.y = x, y\n",
      "    \n",
      "    def norm(self):\n",
      "        return math.sqrt(self.x**2 + self.y**2)"
     ],
     "language": "python",
     "metadata": {},
     "outputs": [],
     "prompt_number": 121
    },
    {
     "cell_type": "code",
     "collapsed": false,
     "input": [
      "a = Vector2D(3, 4)\n",
      "print(type(a))\n",
      "print(a.x, a.y)\n",
      "print(a.norm())"
     ],
     "language": "python",
     "metadata": {},
     "outputs": [
      {
       "output_type": "stream",
       "stream": "stdout",
       "text": [
        "<class '__main__.Vector2D'>\n",
        "(3, 4)\n",
        "5.0\n"
       ]
      }
     ],
     "prompt_number": 122
    },
    {
     "cell_type": "code",
     "collapsed": false,
     "input": [
      "b = Vector2D(1,5)\n",
      "print(type(b))"
     ],
     "language": "python",
     "metadata": {},
     "outputs": [
      {
       "output_type": "stream",
       "stream": "stdout",
       "text": [
        "<class '__main__.Vector2D'>\n"
       ]
      }
     ],
     "prompt_number": 123
    },
    {
     "cell_type": "markdown",
     "metadata": {},
     "source": [
      "Both the vectors `a` and `b` are objects of the class `Vector2D`, but they are separate objects as we can see below.  The objects are stored at different locations in memory."
     ]
    },
    {
     "cell_type": "code",
     "collapsed": false,
     "input": [
      "print(a)\n",
      "print(b)"
     ],
     "language": "python",
     "metadata": {},
     "outputs": [
      {
       "output_type": "stream",
       "stream": "stdout",
       "text": [
        "<__main__.Vector2D object at 0x102770dd0>\n",
        "<__main__.Vector2D object at 0x102770e50>\n"
       ]
      }
     ],
     "prompt_number": 124
    },
    {
     "cell_type": "code",
     "collapsed": false,
     "input": [],
     "language": "python",
     "metadata": {},
     "outputs": []
    }
   ],
   "metadata": {}
  }
 ]
}